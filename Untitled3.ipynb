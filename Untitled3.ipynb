{
  "nbformat": 4,
  "nbformat_minor": 0,
  "metadata": {
    "colab": {
      "name": "Untitled3.ipynb",
      "provenance": [],
      "authorship_tag": "ABX9TyONWv3FY8mfZ4QISpu5FdMc",
      "include_colab_link": true
    },
    "kernelspec": {
      "name": "python3",
      "display_name": "Python 3"
    }
  },
  "cells": [
    {
      "cell_type": "markdown",
      "metadata": {
        "id": "view-in-github",
        "colab_type": "text"
      },
      "source": [
        "<a href=\"https://colab.research.google.com/github/Chaitanya2304/ASSIGNMENT-2-1-/blob/master/Untitled3.ipynb\" target=\"_parent\"><img src=\"https://colab.research.google.com/assets/colab-badge.svg\" alt=\"Open In Colab\"/></a>"
      ]
    },
    {
      "cell_type": "markdown",
      "metadata": {
        "id": "T2oDtdnYV47V",
        "colab_type": "text"
      },
      "source": [
        "1. Given the lengths of three sides of a triangle, calculate the area of the triangle."
      ]
    },
    {
      "cell_type": "code",
      "metadata": {
        "id": "lp76QNdsV82I",
        "colab_type": "code",
        "colab": {
          "base_uri": "https://localhost:8080/",
          "height": 85
        },
        "outputId": "28d9fe7d-75a0-4622-ecba-29389fbe938a"
      },
      "source": [
        "a = float(input(\"Enter First side:\"))\n",
        "\n",
        "b = float(input(\"Enter Second side:\"))\n",
        "\n",
        "c = float(input(\"Enter Third side:\"))\n",
        "\n",
        "s = (a+b+c)/2\n",
        "\n",
        "area = (s*(s-a)*(s-b)*(s-c))**0.5\n",
        "\n",
        "print(\"Area of Triangle=\",area)"
      ],
      "execution_count": 2,
      "outputs": [
        {
          "output_type": "stream",
          "text": [
            "Enter First side:20\n",
            "Enter Second side:30\n",
            "Enter Third side:60\n",
            "Area of Triangle= (3.003663170626034e-14+490.53542175871456j)\n"
          ],
          "name": "stdout"
        }
      ]
    },
    {
      "cell_type": "markdown",
      "metadata": {
        "id": "psZDVHZiWULc",
        "colab_type": "text"
      },
      "source": [
        "2. Take a string from end user and check if the value is palindrome or not."
      ]
    },
    {
      "cell_type": "code",
      "metadata": {
        "id": "-9pSrrYAWWXZ",
        "colab_type": "code",
        "colab": {
          "base_uri": "https://localhost:8080/",
          "height": 51
        },
        "outputId": "01c2694b-9d25-428f-ba73-b7b1a8aa3a43"
      },
      "source": [
        "s=input(\"Enter a string:\")\n",
        "\n",
        "if(s==s[::-1]):\n",
        "\n",
        "    print(\"Given string {} is palindrome\".format(s))\n",
        "\n",
        "else:\n",
        "\n",
        "    print(\"Given string {} is not palindrome\".format(s))"
      ],
      "execution_count": 3,
      "outputs": [
        {
          "output_type": "stream",
          "text": [
            "Enter a string:dad\n",
            "Given string dad is palindrome\n"
          ],
          "name": "stdout"
        }
      ]
    },
    {
      "cell_type": "markdown",
      "metadata": {
        "id": "55LeZH3rWfpI",
        "colab_type": "text"
      },
      "source": [
        "3. Write a program that reads a year from the user and displays a message indicating whether year is leap year or not."
      ]
    },
    {
      "cell_type": "code",
      "metadata": {
        "id": "Dw20xrCoWh0f",
        "colab_type": "code",
        "colab": {
          "base_uri": "https://localhost:8080/",
          "height": 51
        },
        "outputId": "1a457d9b-f163-4cf4-bd19-2c9edc3b5e42"
      },
      "source": [
        "year=int(input(\"Enter the year:\"))\n",
        "\n",
        "if(year%4==0 and year%100!=0 or year%400==0):\n",
        "\n",
        "    print(\"{} The entered year is leap year\".format(year))\n",
        "\n",
        "else:\n",
        "\n",
        "    print(\"{} The entered year is not a leap year\".format(year))\n",
        "\n",
        "\n"
      ],
      "execution_count": 4,
      "outputs": [
        {
          "output_type": "stream",
          "text": [
            "Enter the year:2016\n",
            "2016 The entered year is leap year\n"
          ],
          "name": "stdout"
        }
      ]
    },
    {
      "cell_type": "markdown",
      "metadata": {
        "id": "lAVi5py1WstZ",
        "colab_type": "text"
      },
      "source": [
        "4. Space to Hyphen problem\n",
        "\n",
        "Take a string as input, and replaces spaces \" \" with hyphens \"-\", and returns a string.\n",
        "\n",
        "Input: \"This program converts spaces into hyphen\"\n",
        "\n",
        "Output: \"This-program-converts-spaces-into-hyphen"
      ]
    },
    {
      "cell_type": "code",
      "metadata": {
        "id": "kB4jdVaeWuig",
        "colab_type": "code",
        "colab": {
          "base_uri": "https://localhost:8080/",
          "height": 51
        },
        "outputId": "f51546c9-62b3-4c5c-a475-fa023f44778e"
      },
      "source": [
        "n=input(\"Enter a string : \")\n",
        "\n",
        "print(n.replace(' ','-'))"
      ],
      "execution_count": 23,
      "outputs": [
        {
          "output_type": "stream",
          "text": [
            "Enter a string : This program converts spaces into hyphen\n",
            "This-program-converts-spaces-into-hyphen\n"
          ],
          "name": "stdout"
        }
      ]
    },
    {
      "cell_type": "markdown",
      "metadata": {
        "id": "PCYR2DimXEw6",
        "colab_type": "text"
      },
      "source": [
        "5. Unique Sort Problem.\n",
        "\n",
        "Take a string as input that accepts a comma separated sequence of words as input and prints the unique words in sorted form (alphanumerically).\n",
        "\n",
        "Input: orange,white,red,cyan,green,magenta,cyan,pink,white\n",
        "\n",
        "Output: cyan,green,magenta,orange,pink,red,white"
      ]
    },
    {
      "cell_type": "code",
      "metadata": {
        "id": "DgRoV-THXHCE",
        "colab_type": "code",
        "colab": {
          "base_uri": "https://localhost:8080/",
          "height": 51
        },
        "outputId": "c20b4d0b-fafb-45d0-caa3-7d452fcf1301"
      },
      "source": [
        "Input = input(\"Enter the words:\").split(\",\")\n",
        "\n",
        "words = list(set(Input))\n",
        "\n",
        "words.sort()\n",
        "\n",
        "print(\"Unique words in sorted form:\",str(words))"
      ],
      "execution_count": 6,
      "outputs": [
        {
          "output_type": "stream",
          "text": [
            "Enter the words:orange,white,red,cyan,green,magenta,cyan,pink,white\n",
            "Unique words in sorted form: ['cyan', 'green', 'magenta', 'orange', 'pink', 'red', 'white']\n"
          ],
          "name": "stdout"
        }
      ]
    },
    {
      "cell_type": "markdown",
      "metadata": {
        "id": "tSODWvB6XYx5",
        "colab_type": "text"
      },
      "source": [
        "6. Tax Calculator\n",
        "\n",
        "Ask the user for their monthly salary. Calculate whether they have to pay tax and if so,\n",
        "\n",
        "how much is that amount .Print the result.\n",
        "\n"
      ]
    },
    {
      "cell_type": "code",
      "metadata": {
        "id": "tCYZjEFsXalR",
        "colab_type": "code",
        "colab": {
          "base_uri": "https://localhost:8080/",
          "height": 51
        },
        "outputId": "0abff17b-1977-4460-fb14-f071cd3ca257"
      },
      "source": [
        "salary=int(input(\"Enter the salary : \"))\n",
        "\n",
        "if (salary>=0) and (salary<=250000):\n",
        "\n",
        "    tax=(salary*0)\n",
        "\n",
        "elif (salary>250000) and (salary<=500000):\n",
        "\n",
        "    tax=(salary*0.05)\n",
        "\n",
        "elif (salary>500000) and (salary<=750000):\n",
        "\n",
        "    tax=(salary*0.1)\n",
        "\n",
        "elif (salary>750000) and (salary<=1000000):\n",
        "\n",
        "    tax=(salary*0.15)\n",
        "\n",
        "elif (salary>1000000) and (salary<=1250000):\n",
        "\n",
        "    tax=(salary*0.2)\n",
        "\n",
        "elif (salary>1250000) and (salary<=1500000):\n",
        "\n",
        "    tax=(salary*0.25)\n",
        "\n",
        "else:\n",
        "\n",
        "    tax=(salary*0.3)\n",
        "\n",
        "print(\"Tax is : \",tax)"
      ],
      "execution_count": 7,
      "outputs": [
        {
          "output_type": "stream",
          "text": [
            "Enter the salary : 5000000\n",
            "Tax is :  1500000.0\n"
          ],
          "name": "stdout"
        }
      ]
    },
    {
      "cell_type": "markdown",
      "metadata": {
        "id": "rof3hQtwXu4G",
        "colab_type": "text"
      },
      "source": [
        "7. Take a list of integers as an argument, and converts it into a single integer (return the integer).\n",
        "input:[11,33,50]\n",
        "\n",
        "output:113350"
      ]
    },
    {
      "cell_type": "code",
      "metadata": {
        "id": "9S3unEahXxfx",
        "colab_type": "code",
        "colab": {
          "base_uri": "https://localhost:8080/",
          "height": 34
        },
        "outputId": "82b7830d-9063-4629-86bc-2dc3cf7de6ad"
      },
      "source": [
        "l=[11,33,50]\n",
        "\n",
        "for i in l:\n",
        "\n",
        "  print(i,end=\"\")"
      ],
      "execution_count": 8,
      "outputs": [
        {
          "output_type": "stream",
          "text": [
            "113350"
          ],
          "name": "stdout"
        }
      ]
    },
    {
      "cell_type": "code",
      "metadata": {
        "id": "wtWzodwoV3Ri",
        "colab_type": "code",
        "colab": {}
      },
      "source": [
        ""
      ],
      "execution_count": null,
      "outputs": []
    },
    {
      "cell_type": "markdown",
      "metadata": {
        "id": "9RPbQd4UX7Qd",
        "colab_type": "text"
      },
      "source": [
        "8. Units of Time\n",
        "\n",
        "Create a program that reads duration from the user as a number of days, hours, minutes, and seconds.\n",
        "\n",
        "Compute and display the total number of seconds represented by this duration."
      ]
    },
    {
      "cell_type": "code",
      "metadata": {
        "id": "hp9KIHEjYN50",
        "colab_type": "code",
        "colab": {
          "base_uri": "https://localhost:8080/",
          "height": 102
        },
        "outputId": "7a5bda51-a864-4e15-fd3d-014b4de929c1"
      },
      "source": [
        "seconds_per_minute = 60\n",
        "\n",
        "seconds_per_hour = 3600\n",
        "\n",
        "seconds_per_day = 86400\n",
        "\n",
        "days = int(input(\"Enter no. of days\"))\n",
        "\n",
        "hours = int(input(\"Enter no. of hours\"))\n",
        "\n",
        "minutes = int(input(\"Enter no. of minutes\"))\n",
        "\n",
        "seconds = int(input(\"Enter no. of seconds\"))\n",
        "\n",
        "total_seconds = days*seconds_per_day\n",
        "\n",
        "total_seconds = total_seconds+(hours*seconds_per_hour)\n",
        "\n",
        "total_seconds = total_seconds+(minutes*seconds_per_minute)\n",
        "\n",
        "total_seconds = total_seconds+seconds\n",
        "\n",
        "print(\"Total seconds =\",total_seconds)"
      ],
      "execution_count": 9,
      "outputs": [
        {
          "output_type": "stream",
          "text": [
            "Enter no. of days300\n",
            "Enter no. of hours20\n",
            "Enter no. of minutes50\n",
            "Enter no. of seconds30\n",
            "Total seconds = 25995030\n"
          ],
          "name": "stdout"
        }
      ]
    },
    {
      "cell_type": "markdown",
      "metadata": {
        "id": "VxzLXDMSYlgb",
        "colab_type": "text"
      },
      "source": [
        "9. Sort 3 integers\n",
        "\n",
        "Given three integers (given through user input), sort the numbers using |min| and |max| functions."
      ]
    },
    {
      "cell_type": "code",
      "metadata": {
        "id": "IiOR-HgMYsLr",
        "colab_type": "code",
        "colab": {
          "base_uri": "https://localhost:8080/",
          "height": 85
        },
        "outputId": "f0d78ce2-5af2-4282-a90f-bb33e7401e4a"
      },
      "source": [
        "a=int(input(\"Enter the number of a:\"))\n",
        "\n",
        "b=int(input(\"Enter the number of b:\"))\n",
        "\n",
        "c=int(input(\"Enter the number of c:\"))\n",
        "\n",
        "d=min(a,b,c)\n",
        "\n",
        "e=max(a,b,c)\n",
        "\n",
        "f=(a+b+c)-d-e\n",
        "\n",
        "print(\"The Sorted order is:\",d,f,e)"
      ],
      "execution_count": 10,
      "outputs": [
        {
          "output_type": "stream",
          "text": [
            "Enter the number of a:9\n",
            "Enter the number of b:5\n",
            "Enter the number of c:7\n",
            "The Sorted order is: 5 7 9\n"
          ],
          "name": "stdout"
        }
      ]
    },
    {
      "cell_type": "markdown",
      "metadata": {
        "id": "UsUXc7LxY4A1",
        "colab_type": "text"
      },
      "source": [
        "10.Write a program that reads a date from the user and computes its immediate successor.The date is the format YYYY-MM-DD. So, 2020-04-15\n",
        "\n",
        "will have the successor 2020-04-16."
      ]
    },
    {
      "cell_type": "code",
      "metadata": {
        "id": "c_t5xwt4Z5wc",
        "colab_type": "code",
        "colab": {
          "base_uri": "https://localhost:8080/",
          "height": 85
        },
        "outputId": "0fb0bac3-9608-4519-c53f-bf915010e0c0"
      },
      "source": [
        "year=int(input(\"Enter a year : \"))\n",
        "\n",
        "if year%400== 0:\n",
        "\n",
        "    leapyear=True\n",
        "\n",
        "elif year%100==0:\n",
        "\n",
        "    leapyear=False\n",
        "\n",
        "elif year%4==0:\n",
        "\n",
        "    leapyear=True\n",
        "\n",
        "else:\n",
        "\n",
        "    leapyear=False\n",
        "\n",
        "month=int(input(\"Enter a month between 1 to 12 : \"))\n",
        "\n",
        "if month in (1, 3, 5, 7, 8, 10, 12):\n",
        "\n",
        "    monthlength=31\n",
        "\n",
        "elif month==2:\n",
        "\n",
        "    if leapyear:\n",
        "\n",
        "        monthlength=29\n",
        "\n",
        "    else:\n",
        "\n",
        "        monthlength=28\n",
        "\n",
        "else:\n",
        "\n",
        "    monthlength=30\n",
        "\n",
        "day=int(input(\"Enter a day between 1 to 31 : \"))\n",
        "\n",
        "if day<monthlength:\n",
        "\n",
        "    day+=1\n",
        "\n",
        "else:\n",
        "\n",
        "    day=1\n",
        "\n",
        "    if month==12:\n",
        "\n",
        "        month=1\n",
        "\n",
        "        year+=1\n",
        "\n",
        "    else:\n",
        "      month+=1\n",
        "\n",
        "print(\"The immediate successor is YYYY-MM-DD : %d-%d-%d.\" %(year,month,day))"
      ],
      "execution_count": 11,
      "outputs": [
        {
          "output_type": "stream",
          "text": [
            "Enter a year : 2001\n",
            "Enter a month between 1 to 12 : 4\n",
            "Enter a day between 1 to 31 : 23\n",
            "The immediate successor is YYYY-MM-DD : 2001-4-24.\n"
          ],
          "name": "stdout"
        }
      ]
    },
    {
      "cell_type": "markdown",
      "metadata": {
        "id": "AbbNkEVmamjn",
        "colab_type": "text"
      },
      "source": [
        "11. Compute product of a list of numbers [45,3,2,89,72,1,10,7]\n",
        "\n",
        "Output: 121111200"
      ]
    },
    {
      "cell_type": "code",
      "metadata": {
        "id": "3IbKX0nDawUW",
        "colab_type": "code",
        "colab": {
          "base_uri": "https://localhost:8080/",
          "height": 34
        },
        "outputId": "508f9e8b-2f51-4b96-9fba-2cba7d22f43d"
      },
      "source": [
        "list=[45,3,2,89,72,1,10,7]\n",
        "\n",
        "n=1\n",
        "\n",
        "for i in range(len(list)):\n",
        "\n",
        "    n=n*list[i]\n",
        "\n",
        "print(n)"
      ],
      "execution_count": 12,
      "outputs": [
        {
          "output_type": "stream",
          "text": [
            "121111200\n"
          ],
          "name": "stdout"
        }
      ]
    },
    {
      "cell_type": "markdown",
      "metadata": {
        "id": "dAIGxTwua49n",
        "colab_type": "text"
      },
      "source": [
        "\n",
        "\n",
        "12. Compute given Num_list=[5,6,8,34,89,1] to get desired output.\n",
        "\n",
        "Output : Out_list=[11,14,42,123,90]\n",
        "\n"
      ]
    },
    {
      "cell_type": "code",
      "metadata": {
        "id": "CKVDNW6qa_hV",
        "colab_type": "code",
        "colab": {
          "base_uri": "https://localhost:8080/",
          "height": 34
        },
        "outputId": "a0f53958-b7cd-4da4-ae49-9a0d75be6d4b"
      },
      "source": [
        "l=[5,6,8,34,89,1]\n",
        "\n",
        "Out_list=[]\n",
        "\n",
        "for i in range(len(l)-1):\n",
        "\n",
        "    ol=l[i]+l[i+1]\n",
        "\n",
        "    Out_list.append(ol)\n",
        "\n",
        "print(\"Out_list=\",Out_list)"
      ],
      "execution_count": 13,
      "outputs": [
        {
          "output_type": "stream",
          "text": [
            "Out_list= [11, 14, 42, 123, 90]\n"
          ],
          "name": "stdout"
        }
      ]
    },
    {
      "cell_type": "markdown",
      "metadata": {
        "id": "VVxRYf7ybQEP",
        "colab_type": "text"
      },
      "source": [
        "13. Compute given Num_tuple=(5,6,8,3,9,1) to get desired output.\n",
        "\n",
        "Output : Out_list=[5,30,240,720,6480,6480]"
      ]
    },
    {
      "cell_type": "code",
      "metadata": {
        "id": "HvsJ7pGObR-U",
        "colab_type": "code",
        "colab": {
          "base_uri": "https://localhost:8080/",
          "height": 34
        },
        "outputId": "05f1b1eb-de62-4e80-8ccc-982885835b0f"
      },
      "source": [
        "Num_tuple = (5,6,8,3,9,1)\n",
        "\n",
        "l = []\n",
        "\n",
        "m = 1\n",
        "\n",
        "for i in range(len(Num_tuple)):\n",
        "\n",
        "    m = m*Num_tuple[i]\n",
        "\n",
        "    l.append(m)\n",
        "\n",
        "print(l)"
      ],
      "execution_count": 14,
      "outputs": [
        {
          "output_type": "stream",
          "text": [
            "[5, 30, 240, 720, 6480, 6480]\n"
          ],
          "name": "stdout"
        }
      ]
    },
    {
      "cell_type": "markdown",
      "metadata": {
        "id": "mMtb7469bdqg",
        "colab_type": "text"
      },
      "source": [
        "14. Write a Python code that takes a number and returns a list of its digits. So for 586392 it should return [5,8,6,3,9,2].\n",
        "\n"
      ]
    },
    {
      "cell_type": "code",
      "metadata": {
        "id": "hRZIkuicbqH3",
        "colab_type": "code",
        "colab": {
          "base_uri": "https://localhost:8080/",
          "height": 51
        },
        "outputId": "d5669184-590d-4ce2-fc72-71bd0b8ef5e1"
      },
      "source": [
        "number=input(\"Enter a number: \")\n",
        "\n",
        "list=[]\n",
        "\n",
        "for n in range(len(number)):\n",
        "\n",
        "    list.append(number[n])\n",
        "\n",
        "print(list)"
      ],
      "execution_count": 15,
      "outputs": [
        {
          "output_type": "stream",
          "text": [
            "Enter a number: 23042001\n",
            "['2', '3', '0', '4', '2', '0', '0', '1']\n"
          ],
          "name": "stdout"
        }
      ]
    },
    {
      "cell_type": "markdown",
      "metadata": {
        "id": "kK-doae0b24O",
        "colab_type": "text"
      },
      "source": [
        "15. Write a program that finds the longest palindromic substring of a given string."
      ]
    },
    {
      "cell_type": "code",
      "metadata": {
        "id": "xepMOIMOb8g8",
        "colab_type": "code",
        "colab": {
          "base_uri": "https://localhost:8080/",
          "height": 51
        },
        "outputId": "fe605035-2495-460b-8e7d-1bf0489b89da"
      },
      "source": [
        "def longestpalindrome(n):\n",
        "\n",
        "    d=[[False for i in range(len(n))] for i in range(len(n))]\n",
        "\n",
        "    for i in range(len(n)):\n",
        "\n",
        "        d[i][i]=True\n",
        "\n",
        "    maxlen=1\n",
        "\n",
        "    start=0\n",
        "\n",
        "    for j in range(2,len(n)+1):\n",
        "\n",
        "        for i in range(len(n)-j+1):\n",
        "\n",
        "            end=i+j\n",
        "\n",
        "            if j==2:\n",
        "\n",
        "                if n[i]==n[end-1]:\n",
        "\n",
        "                    d[i][end-1]=True\n",
        "\n",
        "                    maxlen=j\n",
        "\n",
        "                    start=i\n",
        "\n",
        "            else:\n",
        "\n",
        "                if n[i]==n[end-1] and d[i+1][end-2]:\n",
        "\n",
        "                    d[i][end-1]=True\n",
        "\n",
        "                    maxlen=j\n",
        "\n",
        "                    start=i\n",
        "\n",
        "    return n[start:start+maxlen]\n",
        "\n",
        "n=input(\"Enter a string : \")\n",
        "\n",
        "print(longestpalindrome(n))"
      ],
      "execution_count": 16,
      "outputs": [
        {
          "output_type": "stream",
          "text": [
            "Enter a string : chaitanya\n",
            "c\n"
          ],
          "name": "stdout"
        }
      ]
    },
    {
      "cell_type": "markdown",
      "metadata": {
        "id": "2bKq5nr7cG4D",
        "colab_type": "text"
      },
      "source": [
        "16. Substring Check (Bug Funny)\n",
        "\n",
        "Given two binary strings, A (of length 10) and B (of length 5), output 1 if B is a substring of A and 0 otherwise.\n",
        "\n",
        "First two lines of input:\n",
        "\n",
        "1010110010 10110\n",
        "\n",
        "1110111011 10011\n",
        "\n",
        "First two lines of output:\n",
        "\n",
        "1\n",
        "0"
      ]
    },
    {
      "cell_type": "code",
      "metadata": {
        "id": "nkmZZ0X_cN67",
        "colab_type": "code",
        "colab": {
          "base_uri": "https://localhost:8080/",
          "height": 68
        },
        "outputId": "2460442e-45e8-481a-cf0e-dec1893e9c43"
      },
      "source": [
        "def check(A, B): \n",
        "\n",
        "    if (A.find(B) == -1): \n",
        "\n",
        "        print(\"Output=0\") \n",
        "\n",
        "    else: \n",
        "\n",
        "        print(\"Output=1\")\n",
        "\n",
        "\n",
        "A = input(\"Enter a binary string of length 10:\")\n",
        "\n",
        "B =input(\"Enter a binary string of length 5:\")\n",
        "\n",
        "check(A, B)\n",
        "\n",
        "\n"
      ],
      "execution_count": 19,
      "outputs": [
        {
          "output_type": "stream",
          "text": [
            "Enter a binary string of length 10:9381343687\n",
            "Enter a binary string of length 5:12345\n",
            "Output=0\n"
          ],
          "name": "stdout"
        }
      ]
    },
    {
      "cell_type": "markdown",
      "metadata": {
        "id": "4QUN7Vmuc9sr",
        "colab_type": "text"
      },
      "source": [
        "17 POUR1-pouring water\n",
        "\n",
        "given two vessel,one of which can accommodate a liters of water and the other -b liters of water ,determine the number of steps required to obtain exactly c liters of water in one of the vessels At the beginning both vessels are empty.the following operations are counted as 'steps': emptying a vessel, filling a vessel, pouring water from one vessel to the other,without spilling,until one of the vessels is either full or empty. INPUT an integer t, 1<=t<=100,denoting the number of testcases,followed by t sets of input data,each consisting of three positive integers a,b,c not larger than 40000, given in seperate lines. OUTPUT For each set of input data,output the minimum number of steps required to obtain c liters,or -1 if this is impossible\n",
        "\n"
      ]
    },
    {
      "cell_type": "code",
      "metadata": {
        "id": "rl-JzdvedCva",
        "colab_type": "code",
        "colab": {
          "base_uri": "https://localhost:8080/",
          "height": 102
        },
        "outputId": "7b890015-f5ff-4657-ddd6-84cfc440cb23"
      },
      "source": [
        "t=int(input(\"number of test case\"))\n",
        "\n",
        "for i in range(t):\n",
        "\n",
        "  a,b,c=map(int,input(\"enter a b c\").split())\n",
        "\n",
        "  if a>b:\n",
        "\n",
        "    d=a-b\n",
        "\n",
        "  elif a<b:\n",
        "\n",
        "    d=b-a\n",
        "\n",
        "  if c==a or c==b:\n",
        "\n",
        "    print(\"1\")\n",
        "\n",
        "  elif d==c:\n",
        "\n",
        "    print(\"2\")\n",
        "\n",
        "  else:\n",
        "\n",
        "    print(\"-1\")"
      ],
      "execution_count": 22,
      "outputs": [
        {
          "output_type": "stream",
          "text": [
            "number of test case2\n",
            "enter a b c5 2 3\n",
            "2\n",
            "enter a b c1 2 3\n",
            "-1\n"
          ],
          "name": "stdout"
        }
      ]
    },
    {
      "cell_type": "code",
      "metadata": {
        "id": "odavu12Nc6Iw",
        "colab_type": "code",
        "colab": {}
      },
      "source": [
        ""
      ],
      "execution_count": null,
      "outputs": []
    }
  ]
}